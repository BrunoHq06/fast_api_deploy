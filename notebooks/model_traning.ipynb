{
 "cells": [
  {
   "cell_type": "code",
   "execution_count": 2,
   "metadata": {},
   "outputs": [],
   "source": [
    "import pandas as pd\n",
    "import numpy as np\n",
    "\n",
    "import lightgbm as lgb\n",
    "\n",
    "from sklearn.ensemble import RandomForestClassifier\n",
    "from sklearn.linear_model import LogisticRegression\n",
    "from sklearn.model_selection import GridSearchCV\n",
    "from sklearn.compose import ColumnTransformer\n",
    "from sklearn.preprocessing import OneHotEncoder, OrdinalEncoder\n",
    "from sklearn.utils import resample\n",
    "from sklearn.pipeline import Pipeline\n",
    "from sklearn.model_selection import train_test_split\n",
    "from sklearn.metrics import accuracy_score, classification_report\n",
    "\n",
    "import onnx\n",
    "import onnxruntime as rt\n",
    "import skl2onnx\n",
    "from skl2onnx.common.data_types import FloatTensorType,Int64TensorType, StringTensorType\n",
    "from skl2onnx import convert_sklearn"
   ]
  },
  {
   "cell_type": "code",
   "execution_count": 5,
   "metadata": {},
   "outputs": [],
   "source": [
    "train = pd.read_csv(\"../datasets/train.csv\")"
   ]
  },
  {
   "cell_type": "markdown",
   "metadata": {},
   "source": [
    "### Conhecendo a base"
   ]
  },
  {
   "cell_type": "code",
   "execution_count": 5,
   "metadata": {},
   "outputs": [
    {
     "data": {
      "text/plain": [
       "id                     int64\n",
       "gender                object\n",
       "age                  float64\n",
       "hypertension           int64\n",
       "heart_disease          int64\n",
       "ever_married          object\n",
       "work_type             object\n",
       "Residence_type        object\n",
       "avg_glucose_level    float64\n",
       "bmi                  float64\n",
       "smoking_status        object\n",
       "stroke                 int64\n",
       "dtype: object"
      ]
     },
     "execution_count": 5,
     "metadata": {},
     "output_type": "execute_result"
    }
   ],
   "source": [
    "#Datatypes\n",
    "train.dtypes"
   ]
  },
  {
   "cell_type": "code",
   "execution_count": 15,
   "metadata": {},
   "outputs": [
    {
     "data": {
      "text/plain": [
       "<Axes: xlabel='stroke'>"
      ]
     },
     "execution_count": 15,
     "metadata": {},
     "output_type": "execute_result"
    },
    {
     "data": {
      "image/png": "[encoded data removed]",
      "text/plain": [
       "<Figure size 640x480 with 1 Axes>"
      ]
     },
     "metadata": {},
     "output_type": "display_data"
    }
   ],
   "source": [
    "# Existe um grande desbalence entre a coluna target. Deve ser tratado\n",
    "train.groupby(train['stroke']).count()['id'].plot.bar()"
   ]
  },
  {
   "cell_type": "code",
   "execution_count": 46,
   "metadata": {},
   "outputs": [
    {
     "data": {
      "text/plain": [
       "array(['never smoked', 'formerly smoked', 'Unknown', 'smokes'],\n",
       "      dtype=object)"
      ]
     },
     "execution_count": 46,
     "metadata": {},
     "output_type": "execute_result"
    }
   ],
   "source": [
    "# Além disso, há muitas colunas categóricas que precisarão ser tratadas de alguma maneira.\n",
    "train['smoking_status'].unique()"
   ]
  },
  {
   "cell_type": "markdown",
   "metadata": {},
   "source": [
    "### Tratamentos"
   ]
  },
  {
   "cell_type": "code",
   "execution_count": 75,
   "metadata": {},
   "outputs": [
    {
     "name": "stdout",
     "output_type": "stream",
     "text": [
      "(632, 12)\n",
      "(1264, 12)\n"
     ]
    }
   ],
   "source": [
    "# Reamostrando a classe com mais amostras (downsampling)\n",
    "not_stroke = train[train['stroke']==0]\n",
    "stroke     = train[train['stroke']==1]\n",
    "not_stroke_downsampled = resample(not_stroke,\n",
    "                                replace = False, # sample without replacement\n",
    "                                n_samples = len(stroke), # match minority n\n",
    "                                random_state = 27)\n",
    "print(not_stroke_downsampled.shape)\n",
    "\n",
    "downsampled = pd.concat([not_stroke_downsampled, stroke])\n",
    "\n",
    "print(downsampled.shape)"
   ]
  },
  {
   "cell_type": "code",
   "execution_count": 56,
   "metadata": {},
   "outputs": [],
   "source": [
    "X = downsampled.drop(['id', 'stroke'], axis=1)\n",
    "X = X[['age', 'avg_glucose_level', 'bmi', 'smoking_status', 'Residence_type']]\n",
    "y = downsampled['stroke']\n",
    "\n",
    "X_train, X_test, y_train, y_test = train_test_split(X, y, test_size=0.2, random_state = 42, stratify = y, shuffle=True)\n"
   ]
  },
  {
   "cell_type": "markdown",
   "metadata": {},
   "source": [
    "### Treinamento"
   ]
  },
  {
   "cell_type": "code",
   "execution_count": 69,
   "metadata": {},
   "outputs": [
    {
     "name": "stdout",
     "output_type": "stream",
     "text": [
      "[LightGBM] [Info] Number of positive: 506, number of negative: 505\n",
      "[LightGBM] [Info] Auto-choosing col-wise multi-threading, the overhead of testing was 0.000087 seconds.\n",
      "You can set `force_col_wise=true` to remove the overhead.\n",
      "[LightGBM] [Info] Total Bins 580\n",
      "[LightGBM] [Info] Number of data points in the train set: 1011, number of used features: 5\n",
      "[LightGBM] [Info] [binary:BoostFromScore]: pavg=0.500495 -> initscore=0.001978\n",
      "[LightGBM] [Info] Start training from score 0.001978\n"
     ]
    }
   ],
   "source": [
    "# Definindo as colunas categóricas e seus tratamentos\n",
    "binary_features = ['Residence_type']\n",
    "ordinal_features = ['smoking_status']\n",
    "\n",
    "\n",
    "preprocessor = ColumnTransformer(\n",
    "    transformers=[\n",
    "        ('binary3', OrdinalEncoder(categories=[['Rural', 'Urban']]), ['Residence_type']),\n",
    "        ('ordinal', OrdinalEncoder(categories=[['Unknown', 'never smoked', 'formerly smoked', 'smokes']]), ordinal_features)\n",
    "    ],remainder='passthrough')\n",
    "\n",
    "# Criando as pipelines para cada modelo, incluindo Random Forest e LightGBM\n",
    "pipelines = {\n",
    "    'Random Forest': Pipeline([\n",
    "        ('preprocessor', preprocessor),\n",
    "        ('classifier', RandomForestClassifier(random_state=15))\n",
    "    ]),\n",
    "    'LightGBM': Pipeline([\n",
    "        ('preprocessor', preprocessor),\n",
    "        ('classifier', lgb.LGBMClassifier(random_state=0))\n",
    "    ]),\n",
    "}\n",
    "\n",
    "# Definindo a grid de parâmetros para Random Forest e LightGBM\n",
    "param_grid = {\n",
    "    'Random Forest': {\n",
    "        'classifier__n_estimators': np.arange(100, 550, 50),\n",
    "        'classifier__max_depth': [2, 4, 6],\n",
    "        'classifier__criterion': ['gini', 'entropy']\n",
    "    },\n",
    "    'LightGBM': {\n",
    "        'classifier__num_leaves': [31, 50, 70],\n",
    "        'classifier__learning_rate': [0.01, 0.05, 0.1],\n",
    "        'classifier__n_estimators': np.arange(100, 550, 50)\n",
    "    }\n",
    "}\n",
    "\n",
    "# Aplicando GridSearchCV para Random Forest e LightGBM\n",
    "grid_search_rf = GridSearchCV(pipelines['Random Forest'], param_grid['Random Forest'], cv=5, n_jobs=-1)\n",
    "grid_search_lgb = GridSearchCV(pipelines['LightGBM'], param_grid['LightGBM'], cv=5, n_jobs=-1)\n",
    "\n",
    "# Treinando as grid searches\n",
    "fitted_grid_search_rf = grid_search_rf.fit(X_train, y_train)\n",
    "fitted_grid_search_lgb = grid_search_lgb.fit(X_train, y_train)\n",
    "\n",
    "# Melhor modelo encontrado para LightGBM\n",
    "best_lgb = grid_search_lgb.best_estimator_\n",
    "# Melhor modelo encontrado para RandomForest\n",
    "best_rf = fitted_grid_search_rf.best_estimator_"
   ]
  },
  {
   "cell_type": "code",
   "execution_count": 68,
   "metadata": {},
   "outputs": [
    {
     "name": "stdout",
     "output_type": "stream",
     "text": [
      "Acurácia do LightGBM no conjunto de teste: 0.7905\n",
      "\n",
      "Relatório de classificação do LightGBM:\n",
      "               precision    recall  f1-score   support\n",
      "\n",
      "           0       0.81      0.76      0.78       127\n",
      "           1       0.77      0.83      0.80       126\n",
      "\n",
      "    accuracy                           0.79       253\n",
      "   macro avg       0.79      0.79      0.79       253\n",
      "weighted avg       0.79      0.79      0.79       253\n",
      "\n"
     ]
    }
   ],
   "source": [
    "# Prevendo o conjunto de teste usando LightGBM\n",
    "y_pred_lgb = best_lgb.predict(X_test)\n",
    "\n",
    "# Avaliação do modelo LightGBM\n",
    "accuracy_lgb = accuracy_score(y_test, y_pred_lgb)\n",
    "classification_rep_lgb = classification_report(y_test, y_pred_lgb)\n",
    "\n",
    "# Exibindo os resultados\n",
    "print(f\"Acurácia do LightGBM no conjunto de teste: {accuracy_lgb:.4f}\")\n",
    "print(\"\\nRelatório de classificação do LightGBM:\\n\", classification_rep_lgb)"
   ]
  },
  {
   "cell_type": "code",
   "execution_count": 73,
   "metadata": {},
   "outputs": [
    {
     "name": "stdout",
     "output_type": "stream",
     "text": [
      "Acurácia do LightGBM no conjunto de teste: 0.8024\n",
      "\n",
      "Relatório de classificação do LightGBM:\n",
      "               precision    recall  f1-score   support\n",
      "\n",
      "           0       0.81      0.76      0.78       127\n",
      "           1       0.77      0.83      0.80       126\n",
      "\n",
      "    accuracy                           0.79       253\n",
      "   macro avg       0.79      0.79      0.79       253\n",
      "weighted avg       0.79      0.79      0.79       253\n",
      "\n"
     ]
    }
   ],
   "source": [
    "# Prevendo o conjunto de teste usando LightGBM\n",
    "y_pred_rf = best_rf.predict(X_test)\n",
    "\n",
    "# Avaliação do modelo LightGBM\n",
    "accuracy_rf = accuracy_score(y_test, y_pred_rf)\n",
    "classification_rep_rf = classification_report(y_test, y_pred_lgb)\n",
    "\n",
    "# Exibindo os resultados\n",
    "print(f\"Acurácia do LightGBM no conjunto de teste: {accuracy_rf:.4f}\")\n",
    "print(\"\\nRelatório de classificação do LightGBM:\\n\", classification_rep_rf)"
   ]
  },
  {
   "cell_type": "markdown",
   "metadata": {},
   "source": [
    "### Gerando Artefato"
   ]
  },
  {
   "cell_type": "code",
   "execution_count": 81,
   "metadata": {},
   "outputs": [],
   "source": [
    "def convert_dataframe_schema(df, drop=None):\n",
    "    inputs = []\n",
    "    for k, v in zip(df.columns, df.dtypes):\n",
    "        if drop is not None and k in drop:\n",
    "            continue\n",
    "        if v == \"int64\":\n",
    "            t = Int64TensorType([None, 1])\n",
    "        elif v == \"float64\":\n",
    "            t = FloatTensorType([None, 1])\n",
    "        else:\n",
    "            t = StringTensorType([None, 1])\n",
    "        inputs.append((k, t))\n",
    "    return inputs\n",
    "\n",
    "\n",
    "initial_inputs = convert_dataframe_schema(X_train)\n",
    "\n",
    "try:\n",
    "    model_onnx = convert_sklearn(\n",
    "        best_rf, \"pipeline_random_forest\", initial_inputs, target_opset=12\n",
    "    )\n",
    "except Exception as e:\n",
    "    print(e)\n",
    "\n",
    "\n",
    "with open(\"../atifacts/stroke_rf.onnx\", \"wb\") as f:\n",
    "    f.write(model_onnx.SerializeToString())"
   ]
  }
 ],
 "metadata": {
  "kernelspec": {
   "display_name": "xpinc",
   "language": "python",
   "name": "python3"
  },
  "language_info": {
   "codemirror_mode": {
    "name": "ipython",
    "version": 3
   },
   "file_extension": ".py",
   "mimetype": "text/x-python",
   "name": "python",
   "nbconvert_exporter": "python",
   "pygments_lexer": "ipython3",
   "version": "3.11.2"
  }
 },
 "nbformat": 4,
 "nbformat_minor": 2
}
